{
  "cells": [
    {
      "cell_type": "markdown",
      "metadata": {
        "id": "WM8rcFX4dgpJ"
      },
      "source": [
        "Decorators -- Useful Python tool. \"Dont repeat yourself\".\n",
        "Metaprogramming -- creating functions and classes whose main goal is to mainpulate code (modifying or wrapping existing code).\n",
        "\n",
        "A decorator is a function that takes function as an input and returns a new function as a output.\n",
        "\n",
        "\n",
        "\n",
        "---\n",
        "\n"
      ]
    },
    {
      "cell_type": "code",
      "execution_count": null,
      "metadata": {
        "id": "ZWkYpFhPerQG"
      },
      "outputs": [],
      "source": [
        "def say_hello(name,logger):\n",
        "  logger(f\"Hello {name}\")\n",
        " #logger is a function we are passing inside a function"
      ]
    },
    {
      "cell_type": "code",
      "execution_count": null,
      "metadata": {
        "colab": {
          "base_uri": "https://localhost:8080/"
        },
        "id": "k9R-yt5ffZNO",
        "outputId": "d06fb7a3-aaeb-458d-e047-b6ae3da8fc14"
      },
      "outputs": [
        {
          "name": "stdout",
          "output_type": "stream",
          "text": [
            "Hello Class\n"
          ]
        }
      ],
      "source": [
        "say_hello(\"Class\",print)"
      ]
    },
    {
      "cell_type": "code",
      "execution_count": null,
      "metadata": {
        "colab": {
          "base_uri": "https://localhost:8080/"
        },
        "id": "5bUd_nHtfkOH",
        "outputId": "d54b5c54-bfb0-426c-83d0-9cdeb8a143c5"
      },
      "outputs": [
        {
          "name": "stdout",
          "output_type": "stream",
          "text": [
            "Hello Aditya\n"
          ]
        }
      ],
      "source": [
        "say_hello(\"Aditya\", print)"
      ]
    },
    {
      "cell_type": "code",
      "execution_count": null,
      "metadata": {
        "colab": {
          "base_uri": "https://localhost:8080/"
        },
        "id": "Rli_7WW3fuXY",
        "outputId": "939c014d-ee32-4d5f-eff0-c8a1f0cfa344"
      },
      "outputs": [
        {
          "data": {
            "text/plain": [
              "<function __main__.say_hello(name, logger)>"
            ]
          },
          "execution_count": 4,
          "metadata": {},
          "output_type": "execute_result"
        }
      ],
      "source": [
        "say_hello"
      ]
    },
    {
      "cell_type": "code",
      "execution_count": null,
      "metadata": {
        "id": "ROQ5pyqbgAsX"
      },
      "outputs": [],
      "source": [
        "def reversed_text(text):\n",
        "  print(text[::-1])"
      ]
    },
    {
      "cell_type": "code",
      "execution_count": null,
      "metadata": {
        "colab": {
          "base_uri": "https://localhost:8080/"
        },
        "id": "3PgaeYV8gN5H",
        "outputId": "d8ffd6f6-3a33-4900-831b-1f498c73b820"
      },
      "outputs": [
        {
          "name": "stdout",
          "output_type": "stream",
          "text": [
            "punA\n"
          ]
        }
      ],
      "source": [
        "reversed_text('Anup')"
      ]
    },
    {
      "cell_type": "code",
      "execution_count": null,
      "metadata": {
        "colab": {
          "base_uri": "https://localhost:8080/"
        },
        "id": "pa4Lcod2gQE2",
        "outputId": "6d0fd4fd-bc9b-4f30-f45f-6b54d404773d"
      },
      "outputs": [
        {
          "name": "stdout",
          "output_type": "stream",
          "text": [
            "punA olleH\n"
          ]
        }
      ],
      "source": [
        "say_hello(\"Anup\",reversed_text)"
      ]
    },
    {
      "cell_type": "code",
      "execution_count": null,
      "metadata": {
        "colab": {
          "base_uri": "https://localhost:8080/"
        },
        "id": "iuGqpQ1VgVe-",
        "outputId": "60e5b316-e84f-49a1-8fbe-44e1eacf6aae"
      },
      "outputs": [
        {
          "name": "stdout",
          "output_type": "stream",
          "text": [
            "Hello Anup\n"
          ]
        }
      ],
      "source": [
        "say_hello(\"Anup\",print)"
      ]
    },
    {
      "cell_type": "code",
      "execution_count": null,
      "metadata": {
        "id": "f-mLzHzehsEW"
      },
      "outputs": [],
      "source": [
        "def outer():\n",
        "  print(\"I am at outer\")\n",
        "  def inner():\n",
        "    print(\"I am at inner\")\n",
        "  inner()"
      ]
    },
    {
      "cell_type": "code",
      "execution_count": null,
      "metadata": {
        "colab": {
          "base_uri": "https://localhost:8080/"
        },
        "id": "AjYclC3hiSDH",
        "outputId": "40877669-5491-4f0e-d18d-a8b4167ddd52"
      },
      "outputs": [
        {
          "name": "stdout",
          "output_type": "stream",
          "text": [
            "I am at outer\n",
            "I am at inner\n"
          ]
        }
      ],
      "source": [
        "outer()"
      ]
    },
    {
      "cell_type": "code",
      "execution_count": null,
      "metadata": {
        "id": "5rKJljVjiZ8O"
      },
      "outputs": [],
      "source": [
        "# inner() --> scope is bound to outer function"
      ]
    },
    {
      "cell_type": "code",
      "execution_count": null,
      "metadata": {
        "colab": {
          "base_uri": "https://localhost:8080/"
        },
        "id": "8a0zBV-2iqef",
        "outputId": "44a0012e-8ca7-4557-cd7b-6d2a5b4cd577"
      },
      "outputs": [
        {
          "data": {
            "text/plain": [
              "<function __main__.outer()>"
            ]
          },
          "execution_count": 10,
          "metadata": {},
          "output_type": "execute_result"
        }
      ],
      "source": [
        "outer"
      ]
    },
    {
      "cell_type": "code",
      "execution_count": null,
      "metadata": {
        "colab": {
          "base_uri": "https://localhost:8080/"
        },
        "id": "LlmZVJYoiz2m",
        "outputId": "dc3a6e45-29e0-4cce-e0fd-6692cdbe63b8"
      },
      "outputs": [
        {
          "name": "stdout",
          "output_type": "stream",
          "text": [
            "I am at outer\n",
            "I am at inner\n"
          ]
        }
      ],
      "source": [
        "outer()"
      ]
    },
    {
      "cell_type": "code",
      "execution_count": null,
      "metadata": {
        "id": "g_DqO1SFi1MW"
      },
      "outputs": [],
      "source": [
        "def outer():\n",
        "  print(\"I am at outer\")\n",
        "  def inner():\n",
        "    print(\"I am at inner\")\n",
        "  inner()\n",
        "  return inner"
      ]
    },
    {
      "cell_type": "code",
      "execution_count": null,
      "metadata": {
        "colab": {
          "base_uri": "https://localhost:8080/"
        },
        "id": "A7RUgodYi6su",
        "outputId": "86a88f6a-9e27-4618-f1cb-2f5b1acf139f"
      },
      "outputs": [
        {
          "name": "stdout",
          "output_type": "stream",
          "text": [
            "I am at outer\n",
            "I am at inner\n"
          ]
        },
        {
          "data": {
            "text/plain": [
              "<function __main__.outer.<locals>.inner()>"
            ]
          },
          "execution_count": 13,
          "metadata": {},
          "output_type": "execute_result"
        }
      ],
      "source": [
        "outer()"
      ]
    },
    {
      "cell_type": "code",
      "execution_count": null,
      "metadata": {
        "colab": {
          "base_uri": "https://localhost:8080/"
        },
        "id": "AG0qaT4NjCXP",
        "outputId": "7e1f535d-a016-42e4-8439-8c8b05caa399"
      },
      "outputs": [
        {
          "name": "stdout",
          "output_type": "stream",
          "text": [
            "I am at outer\n",
            "I am at inner\n"
          ]
        }
      ],
      "source": [
        "inn=outer()"
      ]
    },
    {
      "cell_type": "code",
      "execution_count": null,
      "metadata": {
        "colab": {
          "base_uri": "https://localhost:8080/"
        },
        "id": "9ksDohgpjK-u",
        "outputId": "428f5fde-82ec-4090-d7c7-eb0b12f01c17"
      },
      "outputs": [
        {
          "name": "stdout",
          "output_type": "stream",
          "text": [
            "I am at inner\n"
          ]
        }
      ],
      "source": [
        "inn()"
      ]
    },
    {
      "cell_type": "code",
      "execution_count": null,
      "metadata": {
        "colab": {
          "base_uri": "https://localhost:8080/"
        },
        "id": "H5cYJn-RjL4W",
        "outputId": "75b6ddc7-6925-4597-b311-3b8e6d28a356"
      },
      "outputs": [
        {
          "data": {
            "text/plain": [
              "<function __main__.outer.<locals>.inner()>"
            ]
          },
          "execution_count": 16,
          "metadata": {},
          "output_type": "execute_result"
        }
      ],
      "source": [
        "inn"
      ]
    },
    {
      "cell_type": "code",
      "execution_count": null,
      "metadata": {
        "id": "ty4q0BaZjRK2"
      },
      "outputs": [],
      "source": [
        "temp=10\n",
        "def outer():\n",
        "  print(\"I am at outer\")\n",
        "  print(f\"The value of temp is {temp}\")\n",
        "  def inner():\n",
        "    print(\"I am at inner\")\n",
        "    temp=2\n",
        "    print(f\"The value of temp is {temp}\")\n",
        "  inner()\n",
        "  return inner"
      ]
    },
    {
      "cell_type": "code",
      "execution_count": null,
      "metadata": {
        "colab": {
          "base_uri": "https://localhost:8080/"
        },
        "id": "gXztD0_njxYe",
        "outputId": "b932db0e-bea0-42d0-d232-19003a4ef074"
      },
      "outputs": [
        {
          "name": "stdout",
          "output_type": "stream",
          "text": [
            "I am at outer\n",
            "The value of temp is 10\n",
            "I am at inner\n",
            "The value of temp is 2\n"
          ]
        }
      ],
      "source": [
        "inn=outer()"
      ]
    },
    {
      "cell_type": "code",
      "execution_count": null,
      "metadata": {
        "colab": {
          "base_uri": "https://localhost:8080/"
        },
        "id": "Cxlm4xZQjyh2",
        "outputId": "30888f3d-ce46-4e09-c7e8-9d807020fbb7"
      },
      "outputs": [
        {
          "name": "stdout",
          "output_type": "stream",
          "text": [
            "I am at inner\n",
            "The value of temp is 2\n"
          ]
        }
      ],
      "source": [
        "inn()"
      ]
    },
    {
      "cell_type": "code",
      "execution_count": null,
      "metadata": {
        "id": "12GKE4jvj2qd"
      },
      "outputs": [],
      "source": [
        "#manipulate functions"
      ]
    },
    {
      "cell_type": "code",
      "execution_count": null,
      "metadata": {
        "colab": {
          "base_uri": "https://localhost:8080/",
          "height": 201
        },
        "id": "rfvTw-s8lxZ9",
        "outputId": "2fadd28c-b814-461f-f7b6-062a0d4cba81"
      },
      "outputs": [
        {
          "ename": "NameError",
          "evalue": "ignored",
          "output_type": "error",
          "traceback": [
            "\u001b[0;31m---------------------------------------------------------------------------\u001b[0m",
            "\u001b[0;31mNameError\u001b[0m                                 Traceback (most recent call last)",
            "\u001b[0;32m<ipython-input-39-5426ab3acda0>\u001b[0m in \u001b[0;36m<module>\u001b[0;34m\u001b[0m\n\u001b[0;32m----> 1\u001b[0;31m \u001b[0;34m@\u001b[0m\u001b[0mstopwatch\u001b[0m\u001b[0;34m\u001b[0m\u001b[0;34m\u001b[0m\u001b[0m\n\u001b[0m\u001b[1;32m      2\u001b[0m \u001b[0;32mdef\u001b[0m \u001b[0mhello\u001b[0m\u001b[0;34m(\u001b[0m\u001b[0mfunc\u001b[0m\u001b[0;34m)\u001b[0m\u001b[0;34m:\u001b[0m\u001b[0;34m\u001b[0m\u001b[0;34m\u001b[0m\u001b[0m\n\u001b[1;32m      3\u001b[0m   \u001b[0mprint\u001b[0m\u001b[0;34m(\u001b[0m\u001b[0;34mf\"Hi {func.__name__}\"\u001b[0m\u001b[0;34m)\u001b[0m\u001b[0;34m\u001b[0m\u001b[0;34m\u001b[0m\u001b[0m\n",
            "\u001b[0;31mNameError\u001b[0m: name 'stopwatch' is not defined"
          ]
        }
      ],
      "source": [
        "\n",
        "def hello(func):\n",
        "  print(f\"Hi {func.__name__}\")"
      ]
    },
    {
      "cell_type": "code",
      "execution_count": null,
      "metadata": {
        "colab": {
          "base_uri": "https://localhost:8080/"
        },
        "id": "KQf-LbkDl2S9",
        "outputId": "934d3e88-9e3b-4312-d4e7-10cd5d4ce525"
      },
      "outputs": [
        {
          "name": "stdout",
          "output_type": "stream",
          "text": [
            "Hi print\n"
          ]
        }
      ],
      "source": [
        "hello(print)"
      ]
    },
    {
      "cell_type": "code",
      "execution_count": null,
      "metadata": {
        "colab": {
          "base_uri": "https://localhost:8080/"
        },
        "id": "-v5mXYy7mBC1",
        "outputId": "7f7d8af5-de2f-4b08-814e-4f806c36f2ba"
      },
      "outputs": [
        {
          "name": "stdout",
          "output_type": "stream",
          "text": [
            "Hi outer\n"
          ]
        }
      ],
      "source": [
        "hello(outer)"
      ]
    },
    {
      "cell_type": "code",
      "execution_count": null,
      "metadata": {
        "colab": {
          "base_uri": "https://localhost:8080/"
        },
        "id": "gy0LIz8KmC9V",
        "outputId": "669e1956-2495-45de-82e7-d543049c87e6"
      },
      "outputs": [
        {
          "name": "stdout",
          "output_type": "stream",
          "text": [
            "Hi inner\n"
          ]
        }
      ],
      "source": [
        "hello(inn)"
      ]
    },
    {
      "cell_type": "code",
      "execution_count": null,
      "metadata": {
        "id": "SdOoPmGVmHjV"
      },
      "outputs": [],
      "source": [
        "def hello(func):\n",
        "  print(f\"Hi {func.__name__}\")\n",
        "  return func"
      ]
    },
    {
      "cell_type": "code",
      "execution_count": null,
      "metadata": {
        "colab": {
          "base_uri": "https://localhost:8080/"
        },
        "id": "Lydlv1nkmRdm",
        "outputId": "f06f680a-7935-432b-f2dd-8760dd18b20b"
      },
      "outputs": [
        {
          "name": "stdout",
          "output_type": "stream",
          "text": [
            "Hi outer\n"
          ]
        }
      ],
      "source": [
        "new_outer=hello(outer)"
      ]
    },
    {
      "cell_type": "code",
      "execution_count": null,
      "metadata": {
        "colab": {
          "base_uri": "https://localhost:8080/"
        },
        "id": "FzMAwAjQmUol",
        "outputId": "cde3854b-35bc-49b1-e261-eb6d682909b7"
      },
      "outputs": [
        {
          "name": "stdout",
          "output_type": "stream",
          "text": [
            "I am at outer\n",
            "The value of temp is 1\n",
            "I am at inner\n",
            "The value of temp is 2\n"
          ]
        },
        {
          "data": {
            "text/plain": [
              "<function __main__.outer.<locals>.inner()>"
            ]
          },
          "execution_count": 30,
          "metadata": {},
          "output_type": "execute_result"
        }
      ],
      "source": [
        "new_outer()"
      ]
    },
    {
      "cell_type": "code",
      "execution_count": null,
      "metadata": {
        "id": "cbwDaXRumY0t"
      },
      "outputs": [],
      "source": [
        "def outer():\n",
        "  print(\"I am at outer\")\n",
        "  temp=1\n",
        "  print(f\"The value of temp is {temp}\")\n",
        "  def inner():\n",
        "    print(\"I am at inner\")\n",
        "    temp=2\n",
        "    print(f\"The value of temp is {temp}\")\n",
        "  inner()\n",
        "  return inner"
      ]
    },
    {
      "cell_type": "code",
      "execution_count": null,
      "metadata": {
        "id": "mOu5CCLdmjkt"
      },
      "outputs": [],
      "source": [
        "def wrapper(func):\n",
        "  #does something before the function is called\n",
        "  print(f\"Before {func.__name__}\")\n",
        "  func()\n",
        "  #does something after the function is called\n",
        "  print(f\"After {func.__name__}\")\n",
        "  "
      ]
    },
    {
      "cell_type": "code",
      "execution_count": null,
      "metadata": {
        "colab": {
          "base_uri": "https://localhost:8080/"
        },
        "id": "9jbV9Rg8mxZV",
        "outputId": "5afdb648-a74e-4b0e-bb06-60f24a4eeda7"
      },
      "outputs": [
        {
          "name": "stdout",
          "output_type": "stream",
          "text": [
            "Before outer\n",
            "I am at outer\n",
            "The value of temp is 10\n",
            "I am at inner\n",
            "The value of temp is 2\n",
            "After outer\n"
          ]
        }
      ],
      "source": [
        "wrapper(outer)"
      ]
    },
    {
      "cell_type": "code",
      "execution_count": null,
      "metadata": {
        "id": "jyBV4JPXn_PG"
      },
      "outputs": [],
      "source": [
        "def outer():\n",
        "  print(\"I am at outer\")\n",
        "  temp=1\n",
        "  print(f\"The value of temp is {temp}\")\n",
        "  def inner():\n",
        "    print(\"I am at inner\")\n",
        "    temp=2\n",
        "    print(f\"The value of temp is {temp}\")\n",
        "  inner()\n",
        "  return inner"
      ]
    },
    {
      "cell_type": "code",
      "execution_count": null,
      "metadata": {
        "id": "Hqj9xsksoDb9"
      },
      "outputs": [],
      "source": [
        "def wrapper(func):\n",
        "  def _wrapper():\n",
        "    print(f\"Before {func.__name__}\")\n",
        "    func()\n",
        "    print(f\"After {func.__name__}\")\n",
        "  return _wrapper\n",
        "    "
      ]
    },
    {
      "cell_type": "code",
      "execution_count": null,
      "metadata": {
        "id": "PLQKaY53orIV"
      },
      "outputs": [],
      "source": [
        "new_outer=wrapper(outer)"
      ]
    },
    {
      "cell_type": "code",
      "execution_count": null,
      "metadata": {
        "colab": {
          "base_uri": "https://localhost:8080/",
          "height": 35
        },
        "id": "0Hx04EZEv5eH",
        "outputId": "1869be1d-84a5-4e09-fc21-9b1d293fbc9d"
      },
      "outputs": [
        {
          "data": {
            "application/vnd.google.colaboratory.intrinsic+json": {
              "type": "string"
            },
            "text/plain": [
              "'Done!'"
            ]
          },
          "execution_count": 42,
          "metadata": {},
          "output_type": "execute_result"
        }
      ],
      "source": [
        "import time\n",
        "import random\n",
        "def sleep_random():\n",
        "  time.sleep(random.random())\n",
        "  return \"Done!\"\n",
        "sleep_random()"
      ]
    },
    {
      "cell_type": "code",
      "execution_count": null,
      "metadata": {
        "id": "6UmqMKwCRvDq"
      },
      "outputs": [],
      "source": [
        "#Lets take an example\n",
        "\n",
        "import time\n",
        "import random\n",
        "def stopwatch(f):\n",
        "  def outer():\n",
        "    tic=time.time()\n",
        "    result=f()\n",
        "    print(f\"This function took : {time.time()-tic}\")\n",
        "    return result\n",
        "  return outer\n",
        "\n"
      ]
    },
    {
      "cell_type": "code",
      "execution_count": null,
      "metadata": {
        "id": "qzwbWtfnSSix"
      },
      "outputs": [],
      "source": [
        "def sleep_random():\n",
        "  time.sleep(random.random())\n",
        "  return \"Done!\"\n",
        "timed_sleep=stopwatch(sleep_random)"
      ]
    },
    {
      "cell_type": "code",
      "execution_count": null,
      "metadata": {
        "colab": {
          "base_uri": "https://localhost:8080/",
          "height": 53
        },
        "id": "vgmFcdNBSxMR",
        "outputId": "4e0000fa-fbab-4fe5-9dba-be4e84cc350c"
      },
      "outputs": [
        {
          "name": "stdout",
          "output_type": "stream",
          "text": [
            "This function took : 0.5931298732757568\n"
          ]
        },
        {
          "data": {
            "application/vnd.google.colaboratory.intrinsic+json": {
              "type": "string"
            },
            "text/plain": [
              "'Done!'"
            ]
          },
          "execution_count": 50,
          "metadata": {},
          "output_type": "execute_result"
        }
      ],
      "source": [
        "timed_sleep()"
      ]
    },
    {
      "cell_type": "markdown",
      "metadata": {
        "id": "jo9GMSr4UZhM"
      },
      "source": [
        "What if your function takes arguments"
      ]
    },
    {
      "cell_type": "code",
      "execution_count": null,
      "metadata": {
        "colab": {
          "base_uri": "https://localhost:8080/"
        },
        "id": "O9LSYUF3ozv8",
        "outputId": "f03bab93-fdd0-4313-adce-09df822c04e9"
      },
      "outputs": [
        {
          "name": "stdout",
          "output_type": "stream",
          "text": [
            "Before outer\n",
            "I am at outer\n",
            "The value of temp is 1\n",
            "I am at inner\n",
            "The value of temp is 2\n",
            "After outer\n"
          ]
        }
      ],
      "source": [
        "new_outer()"
      ]
    },
    {
      "cell_type": "code",
      "execution_count": null,
      "metadata": {
        "id": "_23RBELno1gl"
      },
      "outputs": [],
      "source": [
        "outer=wrapper(outer)"
      ]
    },
    {
      "cell_type": "code",
      "execution_count": null,
      "metadata": {
        "colab": {
          "base_uri": "https://localhost:8080/"
        },
        "id": "UrVGZFbNpsDd",
        "outputId": "402df271-6513-4600-fca6-021151eb8195"
      },
      "outputs": [
        {
          "name": "stdout",
          "output_type": "stream",
          "text": [
            "Before outer\n",
            "I am at outer\n",
            "The value of temp is 1\n",
            "I am at inner\n",
            "The value of temp is 2\n",
            "After outer\n"
          ]
        }
      ],
      "source": [
        "outer()"
      ]
    },
    {
      "cell_type": "code",
      "execution_count": null,
      "metadata": {
        "id": "6SUU1HHZpw6M"
      },
      "outputs": [],
      "source": [
        "def outer():\n",
        "  print(\"I am at outer\")\n",
        "  temp=1\n",
        "  print(f\"The value of temp is {temp}\")\n",
        "  def inner():\n",
        "    print(\"I am at inner\")\n",
        "    temp=2\n",
        "    print(f\"The value of temp is {temp}\")\n",
        "  inner()\n",
        "  return inner"
      ]
    },
    {
      "cell_type": "code",
      "execution_count": null,
      "metadata": {
        "colab": {
          "base_uri": "https://localhost:8080/"
        },
        "id": "cryD1WSKp1O0",
        "outputId": "70d593f7-280b-4d77-fca5-f2c63962cd93"
      },
      "outputs": [
        {
          "name": "stdout",
          "output_type": "stream",
          "text": [
            "I am at outer\n",
            "The value of temp is 1\n",
            "I am at inner\n",
            "The value of temp is 2\n"
          ]
        },
        {
          "data": {
            "text/plain": [
              "<function __main__.outer.<locals>.inner>"
            ]
          },
          "execution_count": 65,
          "metadata": {},
          "output_type": "execute_result"
        }
      ],
      "source": [
        "outer()"
      ]
    },
    {
      "cell_type": "code",
      "execution_count": null,
      "metadata": {
        "id": "K8IQLTLNp29E"
      },
      "outputs": [],
      "source": [
        "outer=wrapper(outer)"
      ]
    },
    {
      "cell_type": "code",
      "execution_count": null,
      "metadata": {
        "colab": {
          "base_uri": "https://localhost:8080/"
        },
        "id": "61qgJXW0p64c",
        "outputId": "23833e52-fd59-43a4-f53f-511a893ce9a9"
      },
      "outputs": [
        {
          "name": "stdout",
          "output_type": "stream",
          "text": [
            "Before outer\n",
            "I am at outer\n",
            "The value of temp is 1\n",
            "I am at inner\n",
            "The value of temp is 2\n",
            "After outer\n"
          ]
        }
      ],
      "source": [
        "outer()"
      ]
    },
    {
      "cell_type": "code",
      "execution_count": null,
      "metadata": {
        "colab": {
          "base_uri": "https://localhost:8080/",
          "height": 35
        },
        "id": "Etb6H25op79M",
        "outputId": "0cd7f573-6ba6-46ff-f2af-0f5138ea8b4a"
      },
      "outputs": [
        {
          "data": {
            "application/vnd.google.colaboratory.intrinsic+json": {
              "type": "string"
            },
            "text/plain": [
              "'_wrapper'"
            ]
          },
          "execution_count": 68,
          "metadata": {},
          "output_type": "execute_result"
        }
      ],
      "source": [
        "outer.__name__"
      ]
    },
    {
      "cell_type": "code",
      "execution_count": null,
      "metadata": {
        "colab": {
          "base_uri": "https://localhost:8080/"
        },
        "id": "D4H0T7zTqEHd",
        "outputId": "380f5439-8448-442e-bae0-68a43d10b9f8"
      },
      "outputs": [
        {
          "data": {
            "text/plain": [
              "<function __main__.wrapper.<locals>._wrapper>"
            ]
          },
          "execution_count": 69,
          "metadata": {},
          "output_type": "execute_result"
        }
      ],
      "source": [
        "#decorated \n",
        "outer"
      ]
    },
    {
      "cell_type": "code",
      "execution_count": null,
      "metadata": {
        "id": "eS3oJAJxqTnk"
      },
      "outputs": [],
      "source": [
        "@wrapper\n",
        "def outer():\n",
        "  print(\"I am at outer\")\n",
        "  temp=1\n",
        "  print(f\"The value of temp is {temp}\")\n",
        "  def inner():\n",
        "    print(\"I am at inner\")\n",
        "    temp=2\n",
        "    print(f\"The value of temp is {temp}\")\n",
        "  inner()\n",
        "  return inner"
      ]
    },
    {
      "cell_type": "code",
      "execution_count": null,
      "metadata": {
        "colab": {
          "base_uri": "https://localhost:8080/"
        },
        "id": "e8pLuUA5qbF9",
        "outputId": "74f84d77-7c7e-4efb-ad2f-72db93e9d561"
      },
      "outputs": [
        {
          "name": "stdout",
          "output_type": "stream",
          "text": [
            "Before outer\n",
            "I am at outer\n",
            "The value of temp is 1\n",
            "I am at inner\n",
            "The value of temp is 2\n",
            "After outer\n"
          ]
        }
      ],
      "source": [
        "outer()"
      ]
    },
    {
      "cell_type": "code",
      "execution_count": null,
      "metadata": {
        "id": "kB7xeZRoqeDs"
      },
      "outputs": [],
      "source": [
        "#what if my function takes input too ?\n",
        "@wrapper\n",
        "def say_hello(name,logger):\n",
        "  logger(f\"Hello {name}\")\n",
        " #logger is a function we are passing inside a function"
      ]
    },
    {
      "cell_type": "code",
      "execution_count": null,
      "metadata": {
        "colab": {
          "base_uri": "https://localhost:8080/",
          "height": 162
        },
        "id": "ySvy7ZYJrNbr",
        "outputId": "e8861bd2-7398-448b-f1f6-cb5aefe3476e"
      },
      "outputs": [
        {
          "ename": "TypeError",
          "evalue": "ignored",
          "output_type": "error",
          "traceback": [
            "\u001b[0;31m---------------------------------------------------------------------------\u001b[0m",
            "\u001b[0;31mTypeError\u001b[0m                                 Traceback (most recent call last)",
            "\u001b[0;32m<ipython-input-73-31ac4fbb1a4c>\u001b[0m in \u001b[0;36m<module>\u001b[0;34m()\u001b[0m\n\u001b[0;32m----> 1\u001b[0;31m \u001b[0msay_hello\u001b[0m\u001b[0;34m(\u001b[0m\u001b[0;34m\"Class\"\u001b[0m\u001b[0;34m,\u001b[0m\u001b[0mprint\u001b[0m\u001b[0;34m)\u001b[0m\u001b[0;34m\u001b[0m\u001b[0;34m\u001b[0m\u001b[0m\n\u001b[0m",
            "\u001b[0;31mTypeError\u001b[0m: _wrapper() takes 0 positional arguments but 2 were given"
          ]
        }
      ],
      "source": [
        "say_hello(\"Class\",print)"
      ]
    },
    {
      "cell_type": "code",
      "execution_count": null,
      "metadata": {
        "id": "P2xyrbIYrQH0"
      },
      "outputs": [],
      "source": [
        "def wrapper(func):\n",
        "  def _wrapper(*args,**kwargs):\n",
        "    print(f\"Before {func.__name__}\")\n",
        "    value=func(*args,**kwargs)\n",
        "    print(f\"After {func.__name__}\")\n",
        "    return value\n",
        "  return _wrapper"
      ]
    },
    {
      "cell_type": "code",
      "execution_count": null,
      "metadata": {
        "id": "ABSE7gOorf3k"
      },
      "outputs": [],
      "source": [
        "@wrapper\n",
        "def say_hello(name,logger):\n",
        "  logger(f\"Hello {name}\")\n",
        " #logger is a function we are passing inside a function"
      ]
    },
    {
      "cell_type": "code",
      "execution_count": null,
      "metadata": {
        "colab": {
          "base_uri": "https://localhost:8080/"
        },
        "id": "QwRfLVoQrl0M",
        "outputId": "6f2c3707-ddb1-45f0-a69f-f628906d64c7"
      },
      "outputs": [
        {
          "name": "stdout",
          "output_type": "stream",
          "text": [
            "Before say_hello\n",
            "Hello Class\n",
            "After say_hello\n"
          ]
        }
      ],
      "source": [
        "say_hello(\"Class\",print)"
      ]
    },
    {
      "cell_type": "code",
      "execution_count": null,
      "metadata": {
        "colab": {
          "base_uri": "https://localhost:8080/",
          "height": 128
        },
        "id": "kpjp-YMnroA0",
        "outputId": "6af561a8-16f5-4e43-aa4d-617526f8ff2c"
      },
      "outputs": [
        {
          "ename": "SyntaxError",
          "evalue": "ignored",
          "output_type": "error",
          "traceback": [
            "\u001b[0;36m  File \u001b[0;32m\"<ipython-input-77-03dc6f1a634a>\"\u001b[0;36m, line \u001b[0;32m1\u001b[0m\n\u001b[0;31m    create a wrapper that sleeps for 2 seconds, then executes the wrapped function\u001b[0m\n\u001b[0m           ^\u001b[0m\n\u001b[0;31mSyntaxError\u001b[0m\u001b[0;31m:\u001b[0m invalid syntax\n"
          ]
        }
      ],
      "source": [
        "#create a wrapper that sleeps for 2 seconds, \n",
        "#then executes the wrapped function"
      ]
    },
    {
      "cell_type": "code",
      "execution_count": null,
      "metadata": {
        "colab": {
          "base_uri": "https://localhost:8080/"
        },
        "id": "6aMvBLEWr0jk",
        "outputId": "ed99dd04-d7eb-430a-e64a-0f9622696739"
      },
      "outputs": [
        {
          "name": "stdout",
          "output_type": "stream",
          "text": [
            "Printed immediately.\n",
            "Printed after 2.4 seconds.\n"
          ]
        }
      ],
      "source": [
        "\n",
        "import time\n",
        "\n",
        "print(\"Printed immediately.\")\n",
        "time.sleep(2.4)\n",
        "print(\"Printed after 2.4 seconds.\")\n"
      ]
    },
    {
      "cell_type": "code",
      "execution_count": null,
      "metadata": {
        "id": "Y5lBDSr4sNb0"
      },
      "outputs": [],
      "source": [
        "#write a wrapper that times a function"
      ]
    },
    {
      "cell_type": "code",
      "execution_count": null,
      "metadata": {
        "id": "Ua7dbsTit4b8"
      },
      "outputs": [],
      "source": [
        "import functools\n",
        "from functools import wraps\n",
        "\n",
        "def wrapper(func):\n",
        "\n",
        "  @wraps(func)\n",
        "  def _wrapper(*args,**kwargs):\n",
        "    print(f\"Before {func.__name__}\")\n",
        "    value=func(*args,**kwargs)\n",
        "    print(f\"After {func.__name__}\")\n",
        "    return value\n",
        "  return _wrapper"
      ]
    },
    {
      "cell_type": "code",
      "execution_count": null,
      "metadata": {
        "id": "8KhWjUXbx256"
      },
      "outputs": [],
      "source": []
    }
  ],
  "metadata": {
    "colab": {
      "provenance": []
    },
    "kernelspec": {
      "display_name": "Python 3.10.5 64-bit",
      "language": "python",
      "name": "python3"
    },
    "language_info": {
      "name": "python",
      "version": "3.10.5"
    },
    "vscode": {
      "interpreter": {
        "hash": "df95319d8ce4e1d89f5365ae10992bc1f65da593082b1d264e8f529830ec2f02"
      }
    }
  },
  "nbformat": 4,
  "nbformat_minor": 0
}
