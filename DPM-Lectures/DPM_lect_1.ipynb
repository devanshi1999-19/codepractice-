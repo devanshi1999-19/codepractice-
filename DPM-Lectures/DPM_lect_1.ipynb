{
  "nbformat": 4,
  "nbformat_minor": 0,
  "metadata": {
    "colab": {
      "provenance": []
    },
    "kernelspec": {
      "name": "python3",
      "display_name": "Python 3"
    },
    "language_info": {
      "name": "python"
    }
  },
  "cells": [
    {
      "cell_type": "code",
      "execution_count": null,
      "metadata": {
        "id": "swCM1KVTigA_"
      },
      "outputs": [],
      "source": [
        "record = [['a', 10], ['b', 8], ['c', 9], ['d', 11], ['e', 10]]"
      ]
    },
    {
      "cell_type": "markdown",
      "source": [
        "Print all the student names having second maximun marks"
      ],
      "metadata": {
        "id": "GITRb3Hfiu-Q"
      }
    },
    {
      "cell_type": "code",
      "source": [
        "max = 0\n",
        "second_max = 0\n",
        "for (student, marks) in record:\n",
        "  if (marks>max):\n",
        "    second_max = max\n",
        "    max = marks"
      ],
      "metadata": {
        "id": "BxsX3votiuOK"
      },
      "execution_count": null,
      "outputs": []
    },
    {
      "cell_type": "code",
      "source": [
        "for (student, marks) in record:\n",
        "  if(marks == second_max):\n",
        "    print(student)"
      ],
      "metadata": {
        "colab": {
          "base_uri": "https://localhost:8080/"
        },
        "id": "dcKDggCkj1Eh",
        "outputId": "796ae235-17e4-4e53-d733-1e765d681a08"
      },
      "execution_count": null,
      "outputs": [
        {
          "output_type": "stream",
          "name": "stdout",
          "text": [
            "a\n",
            "e\n"
          ]
        }
      ]
    },
    {
      "cell_type": "markdown",
      "source": [],
      "metadata": {
        "id": "L6WS60DupySh"
      }
    }
  ]
}