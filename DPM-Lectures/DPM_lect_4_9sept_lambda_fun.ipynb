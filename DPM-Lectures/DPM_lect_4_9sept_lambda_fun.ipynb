{
  "cells": [
    {
      "cell_type": "markdown",
      "metadata": {
        "id": "iyKA7-ZbaESA"
      },
      "source": [
        "# **Lecture 4  **"
      ]
    },
    {
      "cell_type": "markdown",
      "metadata": {
        "id": "PkQrxETGagNj"
      },
      "source": [
        "**Functions -- basics and special cases including Lambda function**"
      ]
    },
    {
      "cell_type": "code",
      "execution_count": null,
      "metadata": {
        "id": "dJco-7yPZ77h"
      },
      "outputs": [],
      "source": [
        "# no of arguments are unknown\n",
        "# tuple of argument can have any number of argument\n",
        "\n",
        "# create a function that takes seq of number find minimum return min and its index\n",
        "\n",
        "def getmin(*args):\n",
        "\n",
        "  mini=args[0]\n",
        "  minindex=0\n",
        "  for i in range(1,len(args)):\n",
        "    if(mini>args[i]):\n",
        "      mini=args[i]\n",
        "      minindex=i\n",
        "  return (mini,minindex)\n"
      ]
    },
    {
      "cell_type": "code",
      "execution_count": null,
      "metadata": {
        "colab": {
          "base_uri": "https://localhost:8080/"
        },
        "id": "BgCk91k6cnJL",
        "outputId": "61f34b80-fee6-417c-b8a0-eac441b3d921"
      },
      "outputs": [
        {
          "name": "stdout",
          "output_type": "stream",
          "text": [
            "minimum =  -7\n",
            "index =  3\n"
          ]
        }
      ],
      "source": [
        "(m,n)=getmin(1,2,3,-7)\n",
        "print(\"minimum = \",m)\n",
        "print(\"index = \",n)"
      ]
    },
    {
      "cell_type": "code",
      "execution_count": null,
      "metadata": {
        "id": "PnZmtiCXea8W"
      },
      "outputs": [],
      "source": [
        "# **kwargs=like a dictionary that u are passing\n",
        "def hellostudent(str1:str,*args:int,**kwargs):\n",
        "  print(str1)\n",
        "  for items in args:\n",
        "    print(\"Hello\")\n",
        "  for items in kwargs:\n",
        "    print(kwargs['age'])\n"
      ]
    },
    {
      "cell_type": "code",
      "execution_count": null,
      "metadata": {
        "colab": {
          "base_uri": "https://localhost:8080/"
        },
        "id": "DyRUlo4ChkWs",
        "outputId": "417b2dde-5b3b-4e0e-8c18-34a08a1e8dd8"
      },
      "outputs": [
        {
          "name": "stdout",
          "output_type": "stream",
          "text": [
            "class\n",
            "Hello\n",
            "Hello\n",
            "20\n"
          ]
        }
      ],
      "source": [
        "hellostudent(\"class\",1,2,age=20)"
      ]
    },
    {
      "cell_type": "markdown",
      "metadata": {
        "id": "e3JLKKvhjlUO"
      },
      "source": [
        "**Sort function using kwargs**"
      ]
    },
    {
      "cell_type": "code",
      "execution_count": null,
      "metadata": {
        "id": "gqtc0oRbhkUf"
      },
      "outputs": [],
      "source": [
        "def sorting(*args,**kwargs):\n",
        "  if(kwargs['order']==\"asc\"):\n",
        "    args = list(sorted(args))\n",
        "  else: \n",
        "    args = list(sorted(args,reverse=True))\n",
        "  return args"
      ]
    },
    {
      "cell_type": "code",
      "execution_count": null,
      "metadata": {
        "colab": {
          "base_uri": "https://localhost:8080/"
        },
        "id": "9Woeci3zjJxQ",
        "outputId": "ff7822d7-6476-4341-89fd-0cd8973087aa"
      },
      "outputs": [
        {
          "data": {
            "text/plain": [
              "[9, 7, 5, 2, 2, 1, 1]"
            ]
          },
          "execution_count": 45,
          "metadata": {},
          "output_type": "execute_result"
        }
      ],
      "source": [
        "sortedlist=sorting(1,2,5,9,7,2,1,order=\"desc\")\n",
        "sortedlist"
      ]
    },
    {
      "cell_type": "code",
      "execution_count": null,
      "metadata": {
        "colab": {
          "base_uri": "https://localhost:8080/"
        },
        "id": "zEZkaxkEjtnp",
        "outputId": "f728bcb2-251f-476b-c8ed-03618171079f"
      },
      "outputs": [
        {
          "name": "stdout",
          "output_type": "stream",
          "text": [
            "7\n"
          ]
        },
        {
          "data": {
            "text/plain": [
              "13"
            ]
          },
          "execution_count": 51,
          "metadata": {},
          "output_type": "execute_result"
        }
      ],
      "source": [
        "#default argument\n",
        "def add(a,b=2):\n",
        "  return a+b\n",
        "\n",
        "print(add(5))\n",
        "add(5,8)"
      ]
    },
    {
      "cell_type": "code",
      "execution_count": null,
      "metadata": {
        "id": "_MklqqNKmXxu"
      },
      "outputs": [],
      "source": [
        "add=lambda x,y:x+y\n",
        "#returning the function"
      ]
    },
    {
      "cell_type": "code",
      "execution_count": null,
      "metadata": {
        "colab": {
          "base_uri": "https://localhost:8080/"
        },
        "id": "sX2J_zIon3Su",
        "outputId": "7aef88e2-e4d9-4fde-b99f-f134f4f179d9"
      },
      "outputs": [
        {
          "data": {
            "text/plain": [
              "6"
            ]
          },
          "execution_count": 53,
          "metadata": {},
          "output_type": "execute_result"
        }
      ],
      "source": [
        "add(2,4)"
      ]
    },
    {
      "cell_type": "code",
      "execution_count": null,
      "metadata": {
        "colab": {
          "base_uri": "https://localhost:8080/"
        },
        "id": "Kq5jbEFpn6FL",
        "outputId": "9b18899a-093b-408b-fd64-9d872ead6e67"
      },
      "outputs": [
        {
          "data": {
            "text/plain": [
              "3"
            ]
          },
          "execution_count": 59,
          "metadata": {},
          "output_type": "execute_result"
        }
      ],
      "source": [
        "# only one arg passed\n",
        "x=1\n",
        "add=lambda y:x+y\n",
        "add(2)"
      ]
    },
    {
      "cell_type": "code",
      "execution_count": null,
      "metadata": {
        "colab": {
          "base_uri": "https://localhost:8080/"
        },
        "id": "903ovVyIp_bL",
        "outputId": "dc531b4e-e7ef-4028-d948-0411a8b5f68c"
      },
      "outputs": [
        {
          "data": {
            "text/plain": [
              "10"
            ]
          },
          "execution_count": 61,
          "metadata": {},
          "output_type": "execute_result"
        }
      ],
      "source": [
        "\n",
        "def g(x):\n",
        "  def f(y):\n",
        "    def h(z):\n",
        "      return x+y+z\n",
        "    return h\n",
        "  return f\n",
        "g(2)(3)(5)\n",
        "\n"
      ]
    },
    {
      "cell_type": "code",
      "execution_count": null,
      "metadata": {
        "colab": {
          "base_uri": "https://localhost:8080/"
        },
        "id": "GwniKPSLsMCU",
        "outputId": "0552497d-3605-4267-a070-9a87ab08fed3"
      },
      "outputs": [
        {
          "data": {
            "text/plain": [
              "['d', 'HI', 'abc']"
            ]
          },
          "execution_count": 63,
          "metadata": {},
          "output_type": "execute_result"
        }
      ],
      "source": [
        "li=['abc','d','HI']\n",
        "sorted(li,key=lambda x:len(x))"
      ]
    },
    {
      "cell_type": "code",
      "execution_count": null,
      "metadata": {
        "id": "oPVzMwazsa1S"
      },
      "outputs": [],
      "source": [
        "def test(x):\n",
        "  return len(x)"
      ]
    },
    {
      "cell_type": "code",
      "execution_count": null,
      "metadata": {
        "colab": {
          "base_uri": "https://localhost:8080/"
        },
        "id": "Q3oHTQC4snFW",
        "outputId": "e94232ca-3072-41e4-f928-bcedd6020a61"
      },
      "outputs": [
        {
          "data": {
            "text/plain": [
              "['d', 'HI', 'abc']"
            ]
          },
          "execution_count": 65,
          "metadata": {},
          "output_type": "execute_result"
        }
      ],
      "source": [
        "li=['abc','d','HI']\n",
        "sorted(li,key=test)"
      ]
    },
    {
      "cell_type": "markdown",
      "metadata": {
        "id": "OTVS-bNNmkW9"
      },
      "source": [
        "## **Generator Function**"
      ]
    },
    {
      "cell_type": "code",
      "execution_count": null,
      "metadata": {
        "id": "DDWG1MkZtktw"
      },
      "outputs": [],
      "source": [
        "squares=[x*x for x in range(100000)]\n"
      ]
    },
    {
      "cell_type": "markdown",
      "metadata": {
        "id": "-8sMwW8OffUg"
      },
      "source": [
        "#Generator are nothing but list compreshension with a different bracket"
      ]
    },
    {
      "cell_type": "code",
      "execution_count": null,
      "metadata": {
        "id": "Brpu-dsgfEdO"
      },
      "outputs": [],
      "source": [
        "def countdown(n):\n",
        "  while(n>0):\n",
        "    n=n-1\n",
        "    yield n\n",
        "    print('Done')\n",
        "    "
      ]
    },
    {
      "cell_type": "code",
      "execution_count": null,
      "metadata": {
        "colab": {
          "base_uri": "https://localhost:8080/"
        },
        "id": "SPntIPBGf4EI",
        "outputId": "ad676916-4020-4204-e719-fdf1683565bc"
      },
      "outputs": [
        {
          "data": {
            "text/plain": [
              "<generator object countdown at 0x7f0d3904b150>"
            ]
          },
          "execution_count": 3,
          "metadata": {},
          "output_type": "execute_result"
        }
      ],
      "source": [
        "temp=countdown(5)\n",
        "temp"
      ]
    },
    {
      "cell_type": "code",
      "execution_count": null,
      "metadata": {
        "colab": {
          "base_uri": "https://localhost:8080/"
        },
        "id": "AVzgwsvtgnaI",
        "outputId": "e981446d-5ac4-42a1-bdd3-e48e19288e9e"
      },
      "outputs": [
        {
          "data": {
            "text/plain": [
              "4"
            ]
          },
          "execution_count": 4,
          "metadata": {},
          "output_type": "execute_result"
        }
      ],
      "source": [
        "next(temp)"
      ]
    },
    {
      "cell_type": "code",
      "execution_count": null,
      "metadata": {
        "colab": {
          "base_uri": "https://localhost:8080/",
          "height": 183
        },
        "id": "yTkT4bAlgp_U",
        "outputId": "332a75ef-40ce-4dab-9f52-79a1d62b9da1"
      },
      "outputs": [
        {
          "name": "stdout",
          "output_type": "stream",
          "text": [
            "Done\n"
          ]
        },
        {
          "ename": "StopIteration",
          "evalue": "ignored",
          "output_type": "error",
          "traceback": [
            "\u001b[0;31m---------------------------------------------------------------------------\u001b[0m",
            "\u001b[0;31mStopIteration\u001b[0m                             Traceback (most recent call last)",
            "\u001b[0;32m<ipython-input-9-18c0b5ae6e30>\u001b[0m in \u001b[0;36m<module>\u001b[0;34m\u001b[0m\n\u001b[0;32m----> 1\u001b[0;31m \u001b[0mnext\u001b[0m\u001b[0;34m(\u001b[0m\u001b[0mtemp\u001b[0m\u001b[0;34m)\u001b[0m\u001b[0;34m\u001b[0m\u001b[0;34m\u001b[0m\u001b[0m\n\u001b[0m",
            "\u001b[0;31mStopIteration\u001b[0m: "
          ]
        }
      ],
      "source": [
        "next(temp)"
      ]
    },
    {
      "cell_type": "code",
      "execution_count": null,
      "metadata": {
        "id": "8FBQjgHThAgh"
      },
      "outputs": [],
      "source": [
        "def countdown2(n):\n",
        "  while(n>0):\n",
        "    yield n\n",
        "    n=n-1\n",
        "    print('Done')"
      ]
    },
    {
      "cell_type": "code",
      "execution_count": null,
      "metadata": {
        "colab": {
          "base_uri": "https://localhost:8080/"
        },
        "id": "yRUpND7BhOg7",
        "outputId": "c13ae153-8280-4f6b-8ff6-3110d53f0aa1"
      },
      "outputs": [
        {
          "data": {
            "text/plain": [
              "5"
            ]
          },
          "execution_count": 13,
          "metadata": {},
          "output_type": "execute_result"
        }
      ],
      "source": [
        "temp=countdown2(5)\n",
        "next(temp)"
      ]
    },
    {
      "cell_type": "code",
      "execution_count": null,
      "metadata": {
        "id": "dWPK0WVkhZNL"
      },
      "outputs": [],
      "source": [
        "#yield can also reciever values\n",
        "\n",
        "def receiver():\n",
        "  while True:\n",
        "    print(\"Check\")\n",
        "    item=yield\n",
        "    print('Got',item)"
      ]
    },
    {
      "cell_type": "code",
      "execution_count": null,
      "metadata": {
        "id": "usBiFdXGh0gI"
      },
      "outputs": [],
      "source": [
        "recv=receiver() #Generator object created"
      ]
    },
    {
      "cell_type": "code",
      "execution_count": null,
      "metadata": {
        "colab": {
          "base_uri": "https://localhost:8080/"
        },
        "id": "6p1WAzLbiCkw",
        "outputId": "43778fb0-73c0-4751-9c59-fb8203233658"
      },
      "outputs": [
        {
          "name": "stdout",
          "output_type": "stream",
          "text": [
            "Got None\n",
            "Got None\n",
            "Got Hello\n"
          ]
        }
      ],
      "source": [
        "next(recv) #advancing to yield statement\n",
        "recv.send(None)\n",
        "recv.send('Hello')"
      ]
    },
    {
      "cell_type": "code",
      "execution_count": null,
      "metadata": {
        "colab": {
          "base_uri": "https://localhost:8080/"
        },
        "id": "FYmv258Lh9r8",
        "outputId": "04dfbe8a-569f-4baa-87cb-7ac0d5366b1a"
      },
      "outputs": [
        {
          "name": "stdout",
          "output_type": "stream",
          "text": [
            "Got Hello\n"
          ]
        }
      ],
      "source": [
        "recv.send('Hello')"
      ]
    },
    {
      "cell_type": "markdown",
      "metadata": {
        "id": "dSesiQ0BlDoR"
      },
      "source": [
        "g.close()- terminator from a generator\n",
        "Delegation to Generator(yeild from..)"
      ]
    },
    {
      "cell_type": "code",
      "execution_count": null,
      "metadata": {
        "id": "yodnf67ilOkY"
      },
      "outputs": [],
      "source": [
        "def chain(a,b):\n",
        "  yield from a\n",
        "  # Meaning of above line\n",
        "  # for i in a:\n",
        "    # yield i\n",
        "  yield from b\n",
        "  #one yield will complete completely then will go to next yield and execute"
      ]
    },
    {
      "cell_type": "code",
      "execution_count": null,
      "metadata": {
        "colab": {
          "base_uri": "https://localhost:8080/"
        },
        "id": "i8xaX1CClVlJ",
        "outputId": "1a720467-5664-4fca-d1b3-5dfce26d6868"
      },
      "outputs": [
        {
          "name": "stdout",
          "output_type": "stream",
          "text": [
            "1 2 3 4 5 6 "
          ]
        }
      ],
      "source": [
        "a=[1,2,3]\n",
        "b=[4,5,6]\n",
        "\n",
        "for i in chain(a,b):\n",
        "  print(i,end=' ')"
      ]
    },
    {
      "cell_type": "code",
      "execution_count": null,
      "metadata": {
        "colab": {
          "base_uri": "https://localhost:8080/"
        },
        "id": "qleuFJaKm5tZ",
        "outputId": "1848567b-72df-4c19-8118-a067bdd77b4e"
      },
      "outputs": [
        {
          "name": "stdout",
          "output_type": "stream",
          "text": [
            "1 2 3 4 5 6 1 2 3 4 5 6 "
          ]
        }
      ],
      "source": [
        "for i in chain(chain(a,b),chain(a,b)):\n",
        "  print(i,end=' ') "
      ]
    },
    {
      "cell_type": "markdown",
      "metadata": {
        "id": "1ZKWKaGlmuRd"
      },
      "source": []
    },
    {
      "cell_type": "code",
      "execution_count": null,
      "metadata": {
        "id": "n5EEygTJk_Wr"
      },
      "outputs": [],
      "source": []
    }
  ],
  "metadata": {
    "colab": {
      "provenance": []
    },
    "kernelspec": {
      "display_name": "Python 3.10.5 64-bit",
      "language": "python",
      "name": "python3"
    },
    "language_info": {
      "name": "python",
      "version": "3.10.5"
    },
    "vscode": {
      "interpreter": {
        "hash": "df95319d8ce4e1d89f5365ae10992bc1f65da593082b1d264e8f529830ec2f02"
      }
    }
  },
  "nbformat": 4,
  "nbformat_minor": 0
}
