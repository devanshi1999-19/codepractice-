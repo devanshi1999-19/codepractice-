{
  "cells": [
    {
      "cell_type": "markdown",
      "metadata": {
        "id": "acdjcV_DeXMx"
      },
      "source": [
        "Lect - 05 13th sept on git version control "
      ]
    },
    {
      "cell_type": "markdown",
      "metadata": {
        "id": "-HeQEsjHqJ2A"
      },
      "source": [
        "Decorators- Useful Python tool. \"Dont repeat Yourself.Metaprogramming --creating functions and classes whose main goal is to manipulate code(modifying or wrapping existing code)\n",
        "\n",
        "A decorator is a function as an input and returns a new function as a output."
      ]
    },
    {
      "cell_type": "code",
      "execution_count": null,
      "metadata": {
        "id": "MP7fjV94eQHc"
      },
      "outputs": [],
      "source": [
        "def fun1():\n",
        "  def fun2():\n",
        "    return 4\n",
        "  return (5**fun2())"
      ]
    },
    {
      "cell_type": "code",
      "execution_count": null,
      "metadata": {
        "colab": {
          "base_uri": "https://localhost:8080/"
        },
        "id": "-ToweZzEqyJ3",
        "outputId": "15a0fafa-a1bc-450c-c0e6-b0efee661470"
      },
      "outputs": [
        {
          "data": {
            "text/plain": [
              "625"
            ]
          },
          "execution_count": 4,
          "metadata": {},
          "output_type": "execute_result"
        }
      ],
      "source": [
        "fun1()"
      ]
    },
    {
      "cell_type": "code",
      "execution_count": null,
      "metadata": {
        "colab": {
          "base_uri": "https://localhost:8080/"
        },
        "id": "5rJkFJ7Vq_bG",
        "outputId": "bfe7bf37-da79-4d43-a410-938ff4c32906"
      },
      "outputs": [
        {
          "name": "stdout",
          "output_type": "stream",
          "text": [
            "hello class\n"
          ]
        }
      ],
      "source": [
        "def say_hello(name,logger):\n",
        "  logger(f\"hello {name}\")\n",
        "\n",
        "say_hello(\"class\",print)"
      ]
    },
    {
      "cell_type": "code",
      "execution_count": null,
      "metadata": {
        "colab": {
          "base_uri": "https://localhost:8080/"
        },
        "id": "OnhPji4urgyo",
        "outputId": "9f403ebd-71c1-4a7e-f827-d4ffa77a82f7"
      },
      "outputs": [
        {
          "data": {
            "text/plain": [
              "<function __main__.say_hello(name, logger)>"
            ]
          },
          "execution_count": 7,
          "metadata": {},
          "output_type": "execute_result"
        }
      ],
      "source": [
        "say_hello"
      ]
    },
    {
      "cell_type": "code",
      "execution_count": null,
      "metadata": {
        "id": "XU0GgqO_ri5p"
      },
      "outputs": [],
      "source": [
        "def reversed_text(text):\n",
        "  print(text[::-1])"
      ]
    },
    {
      "cell_type": "code",
      "execution_count": null,
      "metadata": {
        "colab": {
          "base_uri": "https://localhost:8080/"
        },
        "id": "bpJL7z-frpRx",
        "outputId": "d0f4fa3b-36eb-4cdb-c88d-8055cc0009aa"
      },
      "outputs": [
        {
          "name": "stdout",
          "output_type": "stream",
          "text": [
            "ihsnaveD olleh\n"
          ]
        }
      ],
      "source": [
        "say_hello(\"Devanshi\",reversed_text)"
      ]
    },
    {
      "cell_type": "code",
      "execution_count": null,
      "metadata": {
        "id": "8_nU07RlsE4J"
      },
      "outputs": [],
      "source": [
        "def outer():\n",
        "  print(\"I am an outer fun\")\n",
        "  def inner():\n",
        "    print(\"I am an inner fun\")\n",
        "  inner()\n",
        "  #to get scope of inner\n",
        "  return inner\n"
      ]
    },
    {
      "cell_type": "code",
      "execution_count": null,
      "metadata": {
        "colab": {
          "base_uri": "https://localhost:8080/"
        },
        "id": "OMkpAEY6se2r",
        "outputId": "a14a4c50-cd64-40a5-9c8c-c98db5392e53"
      },
      "outputs": [
        {
          "name": "stdout",
          "output_type": "stream",
          "text": [
            "I am an outer fun\n",
            "I am an inner fun\n"
          ]
        },
        {
          "data": {
            "text/plain": [
              "<function __main__.outer.<locals>.inner()>"
            ]
          },
          "execution_count": 17,
          "metadata": {},
          "output_type": "execute_result"
        }
      ],
      "source": [
        "outer()"
      ]
    },
    {
      "cell_type": "code",
      "execution_count": null,
      "metadata": {
        "id": "MVZuuM3xsiC5"
      },
      "outputs": [],
      "source": [
        "#inner()- scope of inner( is bounded in outer fun)\n",
        "outer\n",
        "# inner"
      ]
    },
    {
      "cell_type": "code",
      "execution_count": null,
      "metadata": {
        "colab": {
          "base_uri": "https://localhost:8080/"
        },
        "id": "mXl5xeeSs7mK",
        "outputId": "e39b3f60-2dd1-401b-8d83-da3256068c5a"
      },
      "outputs": [
        {
          "name": "stdout",
          "output_type": "stream",
          "text": [
            "I am an outer fun\n",
            "I am an inner fun\n"
          ]
        },
        {
          "data": {
            "text/plain": [
              "<function __main__.outer.<locals>.inner()>"
            ]
          },
          "execution_count": 19,
          "metadata": {},
          "output_type": "execute_result"
        }
      ],
      "source": [
        "inn=outer()\n",
        "inn"
      ]
    },
    {
      "cell_type": "code",
      "execution_count": null,
      "metadata": {
        "id": "xGgF2SRKtNWM"
      },
      "outputs": [],
      "source": [
        "def outer():\n",
        "  print(\"I am at outer\")\n",
        "  temp=1\n",
        "  print(f\"the value of temp:{temp}\")\n",
        "  def inner():\n",
        "    print(\"i am at inner\")\n",
        "    temp=2\n",
        "    print(f\"the value of temp:{temp}\")\n",
        "  inner()\n",
        "  return inner\n"
      ]
    },
    {
      "cell_type": "code",
      "execution_count": null,
      "metadata": {
        "colab": {
          "base_uri": "https://localhost:8080/"
        },
        "id": "_5HkF7iBt4W8",
        "outputId": "703b7f8e-f0c9-484b-812f-0b6dcca976d5"
      },
      "outputs": [
        {
          "name": "stdout",
          "output_type": "stream",
          "text": [
            "I am at outer\n",
            "the value of temp:1\n",
            "i am at inner\n",
            "the value of temp:2\n"
          ]
        }
      ],
      "source": [
        "inn=outer()"
      ]
    },
    {
      "cell_type": "code",
      "execution_count": null,
      "metadata": {
        "colab": {
          "base_uri": "https://localhost:8080/"
        },
        "id": "IrawQ1Sdt6k6",
        "outputId": "4b270183-6bdf-4907-9886-35b1a54f4da5"
      },
      "outputs": [
        {
          "name": "stdout",
          "output_type": "stream",
          "text": [
            "i am at inner\n",
            "the value of temp:2\n"
          ]
        }
      ],
      "source": [
        "inn()"
      ]
    },
    {
      "cell_type": "code",
      "execution_count": null,
      "metadata": {
        "id": "1TqHcthduVZE"
      },
      "outputs": [],
      "source": [
        "def wrapper(func):\n",
        "  #does something before the function is called\n",
        "  print(f\"Before {func.__name__}\")\n",
        "  func()\n",
        "  #does something after the function is called\n",
        "  print(f\"After {func.__name__}\")\n",
        "  \n"
      ]
    },
    {
      "cell_type": "code",
      "execution_count": null,
      "metadata": {
        "colab": {
          "base_uri": "https://localhost:8080/"
        },
        "id": "a8qsO966uywr",
        "outputId": "24521195-bdf6-4748-d86f-166d89cf329d"
      },
      "outputs": [
        {
          "name": "stdout",
          "output_type": "stream",
          "text": [
            "Before outer\n",
            "I am at outer\n",
            "the value of temp:1\n",
            "i am at inner\n",
            "the value of temp:2\n",
            "After outer\n"
          ]
        }
      ],
      "source": [
        "wrapper(outer)"
      ]
    },
    {
      "cell_type": "code",
      "execution_count": null,
      "metadata": {
        "id": "ExaE7quVvDqj"
      },
      "outputs": [],
      "source": [
        "def wrapper(func):\n",
        "  def _wrapper():\n",
        "    print(f\"Before {func.__name__}\")\n",
        "    func()\n",
        "    print(f\"After {func.__name__}\")\n",
        "  return _wrapper"
      ]
    },
    {
      "cell_type": "code",
      "execution_count": null,
      "metadata": {
        "id": "IM1YgrgwvW0F"
      },
      "outputs": [],
      "source": [
        "new_outer=wrapper(outer)"
      ]
    },
    {
      "cell_type": "code",
      "execution_count": null,
      "metadata": {
        "colab": {
          "base_uri": "https://localhost:8080/",
          "height": 36
        },
        "id": "r32vwPOGveqd",
        "outputId": "3e735cff-701b-4d14-f39e-90d2cdf83342"
      },
      "outputs": [
        {
          "data": {
            "application/vnd.google.colaboratory.intrinsic+json": {
              "type": "string"
            },
            "text/plain": [
              "'Done!'"
            ]
          },
          "execution_count": 34,
          "metadata": {},
          "output_type": "execute_result"
        }
      ],
      "source": [
        "import time\n",
        "import random\n",
        "def sleep_random():\n",
        "  time.sleep(random.random())\n",
        "  return \"Done!\"\n",
        "sleep_random()"
      ]
    },
    {
      "cell_type": "code",
      "execution_count": null,
      "metadata": {
        "id": "6zm3CvRSwtoN"
      },
      "outputs": [],
      "source": [
        "\n",
        "def stopwatch(f):\n",
        "  def outer():\n",
        "    tic=time.time()\n",
        "    result=f()\n",
        "    print(f\"This function took : {time.time()-tic}\")\n",
        "    return result\n",
        "  return outer"
      ]
    },
    {
      "cell_type": "code",
      "execution_count": null,
      "metadata": {
        "id": "W9gE-FAuxPn4"
      },
      "outputs": [],
      "source": [
        "timer_sleep=stopwatch(sleep_random)\n"
      ]
    },
    {
      "cell_type": "code",
      "execution_count": null,
      "metadata": {
        "colab": {
          "base_uri": "https://localhost:8080/",
          "height": 53
        },
        "id": "_RGQSv2Rxa8b",
        "outputId": "7f4feff8-d0a5-4ee6-9dac-96957be7dae7"
      },
      "outputs": [
        {
          "name": "stdout",
          "output_type": "stream",
          "text": [
            "This fucntion took : 0.5406725406646729\n"
          ]
        },
        {
          "data": {
            "application/vnd.google.colaboratory.intrinsic+json": {
              "type": "string"
            },
            "text/plain": [
              "'Done!'"
            ]
          },
          "execution_count": 37,
          "metadata": {},
          "output_type": "execute_result"
        }
      ],
      "source": [
        "timer_sleep()"
      ]
    },
    {
      "cell_type": "markdown",
      "metadata": {
        "id": "9wHkzBDIeVqU"
      },
      "source": [
        "  def decorator(func)\n",
        "\n",
        "      def wrapper()\n",
        "      result=func()\n",
        "      retrun result\n",
        "    return wrapper\n",
        "\n",
        "    func=function that to be decorated\n",
        "    @decorator\n",
        "      func()"
      ]
    },
    {
      "cell_type": "code",
      "execution_count": null,
      "metadata": {
        "id": "UtwyzgmEpkEM"
      },
      "outputs": [],
      "source": [
        "def wrapper(func):\n",
        "  def _wrapper(*args,**kwargs):\n",
        "    print(f\"Before {func.__name__}\")\n",
        "    value=func(*args,**kwargs)\n",
        "    print(f\"After {func.__name__}\")\n",
        "    return value\n",
        "  return _wrapper "
      ]
    },
    {
      "cell_type": "code",
      "execution_count": null,
      "metadata": {
        "id": "GyUJX5DHqGLx"
      },
      "outputs": [],
      "source": [
        "@wrapper\n",
        "def say_hello(name,logger):\n",
        "  logger(f\"Hello {name}\")\n",
        "  #logger is a function we are passing inside a function"
      ]
    },
    {
      "cell_type": "code",
      "execution_count": null,
      "metadata": {
        "id": "WlsX85DPsW_O"
      },
      "outputs": [],
      "source": [
        "def decorator(func):\n",
        "  def wrapper(*args, **kwargs):\n",
        "    argtype1 = func(args[0])\n",
        "    print(\"Type of arguement is\", argtype1)\n",
        "    argtype2 = func(args[1])\n",
        "    print(\"Type of arguement is\", argtype2)\n",
        "    return argtype1,argtype2\n",
        "  return wrapper"
      ]
    },
    {
      "cell_type": "code",
      "execution_count": null,
      "metadata": {
        "id": "KcsFe2gru3Qo"
      },
      "outputs": [],
      "source": [
        "@decorator\n",
        "def func(arg):\n",
        "  return type(arg)\n",
        "  print()"
      ]
    },
    {
      "cell_type": "code",
      "execution_count": null,
      "metadata": {
        "colab": {
          "base_uri": "https://localhost:8080/"
        },
        "id": "t0fdgHCxu5VN",
        "outputId": "0a8b4f64-c7f7-46f2-990d-11575cd228b0"
      },
      "outputs": [
        {
          "name": "stdout",
          "output_type": "stream",
          "text": [
            "Type of arguement is <class 'str'>\n",
            "Type of arguement is <class 'int'>\n",
            "(<class 'str'>, <class 'int'>)\n"
          ]
        }
      ],
      "source": [
        "types=func( \"dev\",2,5)\n",
        "\n",
        "print(types)"
      ]
    },
    {
      "cell_type": "code",
      "execution_count": null,
      "metadata": {
        "id": "EwZZtlC_z3Kb"
      },
      "outputs": [],
      "source": [
        "\n",
        "def decorator(func):\n",
        "  def wrapper(*args, **kwargs):\n",
        "   \n",
        "    if(isinstance(args[0],int)):\n",
        "       argtype1 = func(args[0])\n",
        "       print(\"Type of arguement is\", argtype1)\n",
        "    else:\n",
        "      print(\"type is not int\")\n",
        "  return wrapper"
      ]
    },
    {
      "cell_type": "code",
      "execution_count": null,
      "metadata": {
        "id": "REhxKe4P04wz"
      },
      "outputs": [],
      "source": [
        "@decorator\n",
        "def func(arg):\n",
        "  return type(arg)"
      ]
    },
    {
      "cell_type": "code",
      "execution_count": null,
      "metadata": {
        "colab": {
          "base_uri": "https://localhost:8080/"
        },
        "id": "UAlf4EHx07OW",
        "outputId": "47b4db46-fc59-4478-d6a9-93a83b851c69"
      },
      "outputs": [
        {
          "name": "stdout",
          "output_type": "stream",
          "text": [
            "type is not int\n"
          ]
        }
      ],
      "source": [
        "func( \"dev\",2,5)"
      ]
    },
    {
      "cell_type": "code",
      "execution_count": null,
      "metadata": {
        "id": "ym-pahzj1V6y"
      },
      "outputs": [],
      "source": [
        "import time\n",
        "import random\n",
        "\n",
        "def timer(func):\n",
        "  def wrapper():\n",
        "    time1=time.time()\n",
        "    func()\n",
        "    print(\"this function took:\" ,time.time()-time1) \n",
        "  return wrapper"
      ]
    },
    {
      "cell_type": "code",
      "execution_count": null,
      "metadata": {
        "id": "m3M_ktqJ2io0"
      },
      "outputs": [],
      "source": [
        "@timer \n",
        "def randomfunc():\n",
        "  print(\"for loop\")\n",
        "  time.sleep(random.random())\n",
        "  listt=[]\n",
        "  for i in range(0,1000000):\n",
        "    listt.append(i)"
      ]
    },
    {
      "cell_type": "code",
      "execution_count": null,
      "metadata": {
        "id": "37utTHed3LMG"
      },
      "outputs": [],
      "source": [
        "@timer \n",
        "def randomfunc2():\n",
        "  time.sleep(random.random())\n",
        "  print(\"list comprehension\")\n",
        "  listt=[i for i in range(0,1000000)]"
      ]
    },
    {
      "cell_type": "code",
      "execution_count": null,
      "metadata": {
        "colab": {
          "base_uri": "https://localhost:8080/"
        },
        "id": "0g0sFvmu3Wl5",
        "outputId": "756f65c8-6d0e-4333-c5b1-592164be615d"
      },
      "outputs": [
        {
          "name": "stdout",
          "output_type": "stream",
          "text": [
            "for loop\n",
            "this function took: 0.5488913059234619\n"
          ]
        }
      ],
      "source": [
        "randomfunc()"
      ]
    },
    {
      "cell_type": "code",
      "execution_count": null,
      "metadata": {
        "colab": {
          "base_uri": "https://localhost:8080/"
        },
        "id": "WGxqm0rJ3jxH",
        "outputId": "0ae4a782-538e-49d5-e7d6-8984ebe8ece7"
      },
      "outputs": [
        {
          "name": "stdout",
          "output_type": "stream",
          "text": [
            "list comprehension\n",
            "this function took: 1.044443130493164\n"
          ]
        }
      ],
      "source": [
        "randomfunc2()"
      ]
    },
    {
      "cell_type": "code",
      "execution_count": null,
      "metadata": {
        "id": "9c__iXNI3ZtC"
      },
      "outputs": [],
      "source": [
        "import time\n",
        "import random\n",
        "def timer(file):\n",
        "  def _timer(f):\n",
        "    def outer(*args,**kwargs):\n",
        "      tic=time.time()\n",
        "      result=f(*args,**kwargs)\n",
        "      str=f\"This function took : {time.time()-tic}\\n\"\n",
        "      with open(file,'a+')as files:\n",
        "        files.write(str)\n",
        "      return result\n",
        "    return outer\n",
        "  return _timer"
      ]
    },
    {
      "cell_type": "code",
      "execution_count": null,
      "metadata": {
        "id": "0JOXQFut1xfl"
      },
      "outputs": [],
      "source": [
        "@timer(\"logger2.txt\")\n",
        "def randomfun():\n",
        "  L=[i for i in range(100000)]"
      ]
    },
    {
      "cell_type": "code",
      "execution_count": null,
      "metadata": {
        "id": "gDFC1YVn2xv-"
      },
      "outputs": [],
      "source": [
        "randomfun()"
      ]
    }
  ],
  "metadata": {
    "colab": {
      "provenance": []
    },
    "kernelspec": {
      "display_name": "Python 3.10.5 64-bit",
      "language": "python",
      "name": "python3"
    },
    "language_info": {
      "name": "python",
      "version": "3.10.5"
    },
    "vscode": {
      "interpreter": {
        "hash": "df95319d8ce4e1d89f5365ae10992bc1f65da593082b1d264e8f529830ec2f02"
      }
    }
  },
  "nbformat": 4,
  "nbformat_minor": 0
}
