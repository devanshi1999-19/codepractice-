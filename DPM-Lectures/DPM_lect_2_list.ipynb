{
  "cells": [
    {
      "cell_type": "markdown",
      "metadata": {
        "id": "YxrmLXCCeudo"
      },
      "source": [
        "**02 Sep**"
      ]
    },
    {
      "cell_type": "markdown",
      "metadata": {
        "id": "lZ6JpeUMd6z_"
      },
      "source": [
        "\n",
        "**Lists**\n",
        "\n"
      ]
    },
    {
      "cell_type": "code",
      "execution_count": null,
      "metadata": {
        "colab": {
          "base_uri": "https://localhost:8080/"
        },
        "id": "4qrmay76YGFE",
        "outputId": "487f2ea7-3668-4064-dbaf-023923fb8f22"
      },
      "outputs": [
        {
          "data": {
            "text/plain": [
              "[0]"
            ]
          },
          "execution_count": 34,
          "metadata": {},
          "output_type": "execute_result"
        }
      ],
      "source": [
        "li = [0]\n",
        "li"
      ]
    },
    {
      "cell_type": "code",
      "execution_count": null,
      "metadata": {
        "colab": {
          "base_uri": "https://localhost:8080/"
        },
        "id": "QQQcNbvdYXFI",
        "outputId": "eae9b84f-efb5-4b66-a8a4-8f325373f7e2"
      },
      "outputs": [
        {
          "data": {
            "text/plain": [
              "[0, 0, 0]"
            ]
          },
          "execution_count": 36,
          "metadata": {},
          "output_type": "execute_result"
        }
      ],
      "source": [
        "li1 = [0]*3\n",
        "li1"
      ]
    },
    {
      "cell_type": "code",
      "execution_count": null,
      "metadata": {
        "colab": {
          "base_uri": "https://localhost:8080/"
        },
        "id": "9TLds4-1avww",
        "outputId": "21656dd2-d272-4246-aed7-20cfeb704877"
      },
      "outputs": [
        {
          "data": {
            "text/plain": [
              "140518085932128"
            ]
          },
          "execution_count": 46,
          "metadata": {},
          "output_type": "execute_result"
        }
      ],
      "source": [
        "id(li)"
      ]
    },
    {
      "cell_type": "code",
      "execution_count": null,
      "metadata": {
        "colab": {
          "base_uri": "https://localhost:8080/"
        },
        "id": "wP246QHbatTr",
        "outputId": "72e22653-41d3-4765-be9e-05c368342cf2"
      },
      "outputs": [
        {
          "data": {
            "text/plain": [
              "11256032"
            ]
          },
          "execution_count": 47,
          "metadata": {},
          "output_type": "execute_result"
        }
      ],
      "source": [
        "id(li1[0])"
      ]
    },
    {
      "cell_type": "code",
      "execution_count": null,
      "metadata": {
        "colab": {
          "base_uri": "https://localhost:8080/"
        },
        "id": "jSkrfGMnYfsP",
        "outputId": "490b8b63-6e00-408f-e0d4-d602012bfa08"
      },
      "outputs": [
        {
          "data": {
            "text/plain": [
              "[0, 1, 0, 0, 1, 0]"
            ]
          },
          "execution_count": 72,
          "metadata": {},
          "output_type": "execute_result"
        }
      ],
      "source": [
        "li = [0,1,0]\n",
        "li2 = li*2\n",
        "li2"
      ]
    },
    {
      "cell_type": "code",
      "execution_count": null,
      "metadata": {
        "colab": {
          "base_uri": "https://localhost:8080/"
        },
        "id": "2g8PxYk2Y2_1",
        "outputId": "f48fbd5c-38cd-4537-cb72-9a820b0b9c16"
      },
      "outputs": [
        {
          "data": {
            "text/plain": [
              "[[0, 1, 0], [0, 1, 0], [0, 1, 0]]"
            ]
          },
          "execution_count": 73,
          "metadata": {},
          "output_type": "execute_result"
        }
      ],
      "source": [
        "li3 = [li]*3\n",
        "li3"
      ]
    },
    {
      "cell_type": "code",
      "execution_count": null,
      "metadata": {
        "colab": {
          "base_uri": "https://localhost:8080/"
        },
        "id": "OFPpYg3ra8kL",
        "outputId": "d60ab80c-e9f6-413b-ff2d-f38f503800ea"
      },
      "outputs": [
        {
          "data": {
            "text/plain": [
              "140518085800336"
            ]
          },
          "execution_count": 80,
          "metadata": {},
          "output_type": "execute_result"
        }
      ],
      "source": [
        "id(li)"
      ]
    },
    {
      "cell_type": "code",
      "execution_count": null,
      "metadata": {
        "colab": {
          "base_uri": "https://localhost:8080/"
        },
        "id": "g0Cc6TktdPN8",
        "outputId": "b2d97392-5e2e-420e-cbcb-6d6691f20ce5"
      },
      "outputs": [
        {
          "data": {
            "text/plain": [
              "140518085955328"
            ]
          },
          "execution_count": 75,
          "metadata": {},
          "output_type": "execute_result"
        }
      ],
      "source": [
        "id(li3)"
      ]
    },
    {
      "cell_type": "code",
      "execution_count": null,
      "metadata": {
        "colab": {
          "base_uri": "https://localhost:8080/"
        },
        "id": "NvKeA5rha9_0",
        "outputId": "8ba73b5f-96a5-4e30-ebd8-6947a53ad30a"
      },
      "outputs": [
        {
          "data": {
            "text/plain": [
              "140518085818160"
            ]
          },
          "execution_count": 81,
          "metadata": {},
          "output_type": "execute_result"
        }
      ],
      "source": [
        "id(li3[0])"
      ]
    },
    {
      "cell_type": "code",
      "execution_count": null,
      "metadata": {
        "colab": {
          "base_uri": "https://localhost:8080/"
        },
        "id": "RN0NjT1cdCxs",
        "outputId": "2edf0941-8765-4bd6-ec88-663e5edcc5a4"
      },
      "outputs": [
        {
          "data": {
            "text/plain": [
              "140518085818160"
            ]
          },
          "execution_count": 77,
          "metadata": {},
          "output_type": "execute_result"
        }
      ],
      "source": [
        "id(li3[1])"
      ]
    },
    {
      "cell_type": "code",
      "execution_count": null,
      "metadata": {
        "id": "Y1Z_dVfHdyG_"
      },
      "outputs": [],
      "source": [
        "li = [0,0,1]"
      ]
    },
    {
      "cell_type": "code",
      "execution_count": null,
      "metadata": {
        "colab": {
          "base_uri": "https://localhost:8080/"
        },
        "id": "mT06cHLyYr10",
        "outputId": "67f4636b-8b48-412d-bf35-008eceb4586b"
      },
      "outputs": [
        {
          "data": {
            "text/plain": [
              "140518086326224"
            ]
          },
          "execution_count": 78,
          "metadata": {},
          "output_type": "execute_result"
        }
      ],
      "source": [
        "id([0])"
      ]
    },
    {
      "cell_type": "code",
      "execution_count": null,
      "metadata": {
        "id": "6VHgB-OlZeu5"
      },
      "outputs": [],
      "source": [
        "a = 1\n",
        "b = 1"
      ]
    },
    {
      "cell_type": "code",
      "execution_count": null,
      "metadata": {
        "colab": {
          "base_uri": "https://localhost:8080/"
        },
        "id": "1IR2zSgmZgUw",
        "outputId": "7dbe0d0a-d70b-4633-fb38-f6e354abd4c0"
      },
      "outputs": [
        {
          "data": {
            "text/plain": [
              "11256064"
            ]
          },
          "execution_count": 32,
          "metadata": {},
          "output_type": "execute_result"
        }
      ],
      "source": [
        "id(a)"
      ]
    },
    {
      "cell_type": "code",
      "execution_count": null,
      "metadata": {
        "colab": {
          "base_uri": "https://localhost:8080/"
        },
        "id": "i-F0sqi0Zho-",
        "outputId": "a5cbecc6-3c6f-44f6-b75d-6ea1f51bc132"
      },
      "outputs": [
        {
          "data": {
            "text/plain": [
              "11256064"
            ]
          },
          "execution_count": 33,
          "metadata": {},
          "output_type": "execute_result"
        }
      ],
      "source": [
        "id(b)"
      ]
    },
    {
      "cell_type": "code",
      "execution_count": null,
      "metadata": {
        "id": "sZP0t8D3aDmp"
      },
      "outputs": [],
      "source": [
        "a = \"abc\"\n",
        "b = \"abcd\""
      ]
    },
    {
      "cell_type": "code",
      "execution_count": null,
      "metadata": {
        "colab": {
          "base_uri": "https://localhost:8080/"
        },
        "id": "IOtsg4RZaF4N",
        "outputId": "7fcd224e-55fd-44b7-a070-342606f7e184"
      },
      "outputs": [
        {
          "data": {
            "text/plain": [
              "140518628828912"
            ]
          },
          "execution_count": 26,
          "metadata": {},
          "output_type": "execute_result"
        }
      ],
      "source": [
        "id(a)"
      ]
    },
    {
      "cell_type": "code",
      "execution_count": null,
      "metadata": {
        "colab": {
          "base_uri": "https://localhost:8080/"
        },
        "id": "XOj5HmuBaHAQ",
        "outputId": "245638e9-98f9-4038-8522-6dd1d996114a"
      },
      "outputs": [
        {
          "data": {
            "text/plain": [
              "140518086388528"
            ]
          },
          "execution_count": 27,
          "metadata": {},
          "output_type": "execute_result"
        }
      ],
      "source": [
        "id(b)"
      ]
    },
    {
      "cell_type": "markdown",
      "metadata": {
        "id": "YEorBqlvd-0A"
      },
      "source": [
        "**Tuples**"
      ]
    },
    {
      "cell_type": "code",
      "execution_count": null,
      "metadata": {
        "colab": {
          "base_uri": "https://localhost:8080/"
        },
        "id": "mRdx70_heBKb",
        "outputId": "b6331ac3-bd2c-430b-bd95-4e1f021b7b0e"
      },
      "outputs": [
        {
          "data": {
            "text/plain": [
              "(0, 1)"
            ]
          },
          "execution_count": 86,
          "metadata": {},
          "output_type": "execute_result"
        }
      ],
      "source": [
        "a = (0,1)\n",
        "a"
      ]
    },
    {
      "cell_type": "code",
      "execution_count": null,
      "metadata": {
        "colab": {
          "base_uri": "https://localhost:8080/"
        },
        "id": "3Fuc7lyeeGQc",
        "outputId": "bf18ab00-58bd-4c1e-e3c7-f65422e4ecfd"
      },
      "outputs": [
        {
          "data": {
            "text/plain": [
              "(0, 1)"
            ]
          },
          "execution_count": 87,
          "metadata": {},
          "output_type": "execute_result"
        }
      ],
      "source": [
        "b = (0,1)\n",
        "b"
      ]
    },
    {
      "cell_type": "code",
      "execution_count": null,
      "metadata": {
        "colab": {
          "base_uri": "https://localhost:8080/"
        },
        "id": "2JKff85_eJgn",
        "outputId": "92ab3930-df8d-431e-8327-06a787f155dd"
      },
      "outputs": [
        {
          "data": {
            "text/plain": [
              "140518085971072"
            ]
          },
          "execution_count": 88,
          "metadata": {},
          "output_type": "execute_result"
        }
      ],
      "source": [
        "id(a)"
      ]
    },
    {
      "cell_type": "code",
      "execution_count": null,
      "metadata": {
        "colab": {
          "base_uri": "https://localhost:8080/"
        },
        "id": "77sCD55eeLBa",
        "outputId": "65b97380-299c-430a-afa1-e3e6d57f0961"
      },
      "outputs": [
        {
          "data": {
            "text/plain": [
              "140518085932928"
            ]
          },
          "execution_count": 89,
          "metadata": {},
          "output_type": "execute_result"
        }
      ],
      "source": [
        "id(b)"
      ]
    },
    {
      "cell_type": "code",
      "execution_count": null,
      "metadata": {
        "colab": {
          "base_uri": "https://localhost:8080/",
          "height": 165
        },
        "id": "EVUFa3PIeV10",
        "outputId": "a1460c1c-af19-4ed6-85ab-e0b923835918"
      },
      "outputs": [
        {
          "ename": "TypeError",
          "evalue": "ignored",
          "output_type": "error",
          "traceback": [
            "\u001b[0;31m---------------------------------------------------------------------------\u001b[0m",
            "\u001b[0;31mTypeError\u001b[0m                                 Traceback (most recent call last)",
            "\u001b[0;32m<ipython-input-90-c8548dbc0a7e>\u001b[0m in \u001b[0;36m<module>\u001b[0;34m\u001b[0m\n\u001b[0;32m----> 1\u001b[0;31m \u001b[0ma\u001b[0m\u001b[0;34m[\u001b[0m\u001b[0;36m0\u001b[0m\u001b[0;34m]\u001b[0m \u001b[0;34m=\u001b[0m \u001b[0;36m1\u001b[0m\u001b[0;34m\u001b[0m\u001b[0;34m\u001b[0m\u001b[0m\n\u001b[0m",
            "\u001b[0;31mTypeError\u001b[0m: 'tuple' object does not support item assignment"
          ]
        }
      ],
      "source": [
        "a[0] = 1"
      ]
    },
    {
      "cell_type": "markdown",
      "metadata": {
        "id": "oL0Z6Usyfk9M"
      },
      "source": [
        "**List Comprehension**"
      ]
    },
    {
      "cell_type": "code",
      "execution_count": null,
      "metadata": {
        "id": "4WaCzSD_e-7k"
      },
      "outputs": [],
      "source": [
        "def evenlist(li):\n",
        "  evenli=[]\n",
        "  for ele in li:\n",
        "    if not ele%2:\n",
        "      evenli.append(ele)\n",
        "  return evenli"
      ]
    },
    {
      "cell_type": "code",
      "execution_count": null,
      "metadata": {
        "id": "Ifawcz2rgGDe"
      },
      "outputs": [],
      "source": [
        "def oddlist(li):\n",
        "  oddlist = [i for i in li if i%2]\n",
        "  return oddlist"
      ]
    },
    {
      "cell_type": "code",
      "execution_count": null,
      "metadata": {
        "id": "y7e1co_Wkger"
      },
      "outputs": [],
      "source": [
        "def primelist(li):\n",
        "  primeli = []\n",
        "  for i in li:\n",
        "    flag = 0\n",
        "    for j in range(2, int(math.sqrt(i))+1):\n",
        "      if i%j == 0:\n",
        "        flag = 1\n",
        "    if flag == 0:\n",
        "      primeli.append(i)\n",
        "  return primeli"
      ]
    },
    {
      "cell_type": "code",
      "execution_count": null,
      "metadata": {
        "colab": {
          "base_uri": "https://localhost:8080/"
        },
        "id": "kolRHxeTfXP0",
        "outputId": "77585edc-3e66-46d2-ea38-7f35af43a3ee"
      },
      "outputs": [
        {
          "name": "stdout",
          "output_type": "stream",
          "text": [
            "[2, 4, 58]\n"
          ]
        }
      ],
      "source": [
        "print(evenlist([2,3,4,58,9]))"
      ]
    },
    {
      "cell_type": "code",
      "execution_count": null,
      "metadata": {
        "colab": {
          "base_uri": "https://localhost:8080/"
        },
        "id": "PcozTpsRfo4q",
        "outputId": "551ef927-28d2-4167-86e0-af9e8dc14b68"
      },
      "outputs": [
        {
          "name": "stdout",
          "output_type": "stream",
          "text": [
            "[3, 9]\n"
          ]
        }
      ],
      "source": [
        "print(oddlist([2,3,4,58,9]))"
      ]
    },
    {
      "cell_type": "code",
      "execution_count": null,
      "metadata": {
        "colab": {
          "base_uri": "https://localhost:8080/"
        },
        "id": "_Uel3n7Mg7qb",
        "outputId": "445d96ab-f6d9-4608-b90b-d44df98cb09c"
      },
      "outputs": [
        {
          "name": "stdout",
          "output_type": "stream",
          "text": [
            "[2, 3, 7, 11, 37, 71]\n"
          ]
        }
      ],
      "source": [
        "print(primelist([2,3,4,7,9,11,37,39,71,99]))"
      ]
    },
    {
      "cell_type": "code",
      "execution_count": null,
      "metadata": {
        "colab": {
          "base_uri": "https://localhost:8080/"
        },
        "id": "KgShlb10lL_Z",
        "outputId": "8df657fa-ed6e-413a-a5e3-271bfc7b9619"
      },
      "outputs": [
        {
          "data": {
            "text/plain": [
              "[[[0, 0, 0], [0, 0, 0], [0, 0, 0], [0, 0, 0]],\n",
              " [[0, 0, 0], [0, 0, 0], [0, 0, 0], [0, 0, 0]],\n",
              " [[0, 0, 0], [0, 0, 0], [0, 0, 0], [0, 0, 0]],\n",
              " [[0, 0, 0], [0, 0, 0], [0, 0, 0], [0, 0, 0]],\n",
              " [[0, 0, 0], [0, 0, 0], [0, 0, 0], [0, 0, 0]]]"
            ]
          },
          "execution_count": 125,
          "metadata": {},
          "output_type": "execute_result"
        }
      ],
      "source": [
        "multi=[[[0 for h in range(3)]for col in range(4)] for row in range(5)]\n",
        "multi"
      ]
    },
    {
      "cell_type": "code",
      "execution_count": null,
      "metadata": {
        "id": "8mi_aQeOmjLc"
      },
      "outputs": [],
      "source": [
        "nums = [1,2,3,4,5]"
      ]
    },
    {
      "cell_type": "code",
      "execution_count": null,
      "metadata": {
        "colab": {
          "base_uri": "https://localhost:8080/"
        },
        "id": "K_7mnm9pmlh1",
        "outputId": "caf5f69a-99cf-4667-f79c-dc6cef40445e"
      },
      "outputs": [
        {
          "data": {
            "text/plain": [
              "[1, 4, 9, 16, 25]"
            ]
          },
          "execution_count": 127,
          "metadata": {},
          "output_type": "execute_result"
        }
      ],
      "source": [
        "sq = [i*i for i in nums]\n",
        "sq"
      ]
    },
    {
      "cell_type": "code",
      "execution_count": null,
      "metadata": {
        "colab": {
          "base_uri": "https://localhost:8080/"
        },
        "id": "RRFkAJ-Qm0Gk",
        "outputId": "4d411deb-bbec-436c-943a-8ff6c52d7dbe"
      },
      "outputs": [
        {
          "data": {
            "text/plain": [
              "<generator object <genexpr> at 0x7fccea82fed0>"
            ]
          },
          "execution_count": 151,
          "metadata": {},
          "output_type": "execute_result"
        }
      ],
      "source": [
        "squares = (i*i for i in nums)\n",
        "squares"
      ]
    },
    {
      "cell_type": "code",
      "execution_count": null,
      "metadata": {
        "colab": {
          "base_uri": "https://localhost:8080/"
        },
        "id": "HpGZj0fcoABZ",
        "outputId": "88da0937-58e1-49bc-bd3e-359e736adbe8"
      },
      "outputs": [
        {
          "name": "stdout",
          "output_type": "stream",
          "text": [
            "16\n"
          ]
        }
      ],
      "source": [
        "next(squares)\n",
        "print(next(squares))"
      ]
    },
    {
      "cell_type": "code",
      "execution_count": null,
      "metadata": {
        "colab": {
          "base_uri": "https://localhost:8080/"
        },
        "id": "y3JhjcVxnAPO",
        "outputId": "7836da62-f55c-46b4-e99f-c0bda7213255"
      },
      "outputs": [
        {
          "name": "stdout",
          "output_type": "stream",
          "text": [
            "9\n",
            "16\n",
            "25\n"
          ]
        }
      ],
      "source": [
        "for i in squares:\n",
        "  print(i)"
      ]
    },
    {
      "cell_type": "code",
      "execution_count": null,
      "metadata": {
        "id": "narBTFCOnjb_"
      },
      "outputs": [],
      "source": [
        "for i in squares:\n",
        "  print(i)"
      ]
    },
    {
      "cell_type": "markdown",
      "metadata": {
        "id": "2iVGjgjwezq6"
      },
      "source": [
        "**06 Sep**"
      ]
    },
    {
      "cell_type": "markdown",
      "metadata": {
        "id": "-j7Pv3fGe2Q_"
      },
      "source": [
        "**Dictionaries**"
      ]
    },
    {
      "cell_type": "code",
      "execution_count": null,
      "metadata": {
        "id": "Wd5REeI7e4YI"
      },
      "outputs": [],
      "source": [
        "dictionary = dict(zip(['a','b', 'c'],[1,2,3]))"
      ]
    },
    {
      "cell_type": "code",
      "execution_count": null,
      "metadata": {
        "colab": {
          "base_uri": "https://localhost:8080/"
        },
        "id": "0kR2EPRVfQp0",
        "outputId": "d4122060-c6fe-4d27-e02b-eb5318bba225"
      },
      "outputs": [
        {
          "name": "stdout",
          "output_type": "stream",
          "text": [
            "('a', 1)\n",
            "('b', 2)\n",
            "('c', 3)\n"
          ]
        }
      ],
      "source": [
        "iter1 = zip(['a','b', 'c'],[1,2,3])\n",
        "for item in iter1:\n",
        "  print(item)"
      ]
    },
    {
      "cell_type": "code",
      "execution_count": null,
      "metadata": {
        "colab": {
          "base_uri": "https://localhost:8080/"
        },
        "id": "pabVplSyfc2c",
        "outputId": "41264f4c-06b8-40c2-c9ea-f7081b0d0d3d"
      },
      "outputs": [
        {
          "data": {
            "text/plain": [
              "zip"
            ]
          },
          "execution_count": 4,
          "metadata": {},
          "output_type": "execute_result"
        }
      ],
      "source": [
        "type(iter1)"
      ]
    }
  ],
  "metadata": {
    "colab": {
      "provenance": []
    },
    "kernelspec": {
      "display_name": "Python 3.10.5 64-bit",
      "language": "python",
      "name": "python3"
    },
    "language_info": {
      "name": "python",
      "version": "3.10.5"
    },
    "vscode": {
      "interpreter": {
        "hash": "df95319d8ce4e1d89f5365ae10992bc1f65da593082b1d264e8f529830ec2f02"
      }
    }
  },
  "nbformat": 4,
  "nbformat_minor": 0
}
